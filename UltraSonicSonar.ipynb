{
 "cells": [
  {
   "cell_type": "markdown",
   "id": "urban-holiday",
   "metadata": {},
   "source": [
    "# UltraSonicSonar\n",
    "Here is an ultrasonic sonar class that I created to use with ROS on my RaspberryPi computer.\n",
    "It works with *HC-SR04* ultrasonic sonar. You can try to use other ultrasonic sonars because they are all based on the same principle."
   ]
  },
  {
   "cell_type": "code",
   "execution_count": 4,
   "id": "regulation-cattle",
   "metadata": {},
   "outputs": [],
   "source": [
    "#!/usr/bin/env python\n",
    "import math\n",
    "import RPi.GPIO as GPIO\n",
    "import time\n",
    "\n",
    "SONIC_SPEED = 343.0 # sonic speed m/s\n",
    "HALF_SONIC_SPEED = SONIC_SPEED / 2.0\n",
    "\n",
    "class UltraSonicSonar():\n",
    "    def __init__(self, name:str, gpio_trigger:int, gpio_echo:int, min_range:float, max_range:float, \\\n",
    "                 field_of_view:int = math.nan):\n",
    "        \"\"\"\n",
    "        sonar name, trigger GPIO, echo GPIO, min and max range, field of view\n",
    "        \"\"\"\n",
    "        self.__name = name\n",
    "        self.__gpio_trigger = gpio_trigger\n",
    "        self.__gpio_echo = gpio_echo\n",
    "        self.__min_range = min_range\n",
    "        self.__max_range = max_range\n",
    "        if not math.isnan(field_of_view):\n",
    "            self.__field_of_view = math.radians(field_of_view)  # in radians\n",
    "        else:\n",
    "            self.__field_of_view = math.nan\n",
    "        # echo maximum waiting time. rounded up to 3 decimal places\n",
    "        self.__max_wait_time = self.__max_wait_time = math.ceil(max_range / SONIC_SPEED * 1000) / 1000\n",
    "\n",
    "    def init_hw(self):\n",
    "        \"\"\"initialize hardware\"\"\"\n",
    "        # set GPIO mode to BCM\n",
    "        GPIO.setmode(GPIO.BCM)\n",
    "\n",
    "        GPIO.setup(self.__gpio_trigger, GPIO.OUT)\n",
    "        GPIO.output(self.__gpio_trigger, GPIO.LOW)\n",
    "        GPIO.setup(self.__gpio_echo, GPIO.IN)\n",
    "\n",
    "    @property\n",
    "    def name(self):\n",
    "        return self.__name\n",
    "\n",
    "    @property\n",
    "    def min_range(self):\n",
    "        return self.__min_range\n",
    "\n",
    "    @property\n",
    "    def max_range(self):\n",
    "        return self.__max_range\n",
    "\n",
    "    @property\n",
    "    def field_of_view(self):\n",
    "        return self.__field_of_view\n",
    "\n",
    "    def get_range(self):\n",
    "        # generate 0.01 ms impulse\n",
    "        GPIO.output(self.__gpio_trigger, GPIO.HIGH)\n",
    "        time.sleep(0.00001)\n",
    "        GPIO.output(self.__gpio_trigger, GPIO.LOW)\n",
    "\n",
    "        start_time = time.time()\n",
    "        stop_time = time.time()\n",
    "        iteration_start_time = time.time()\n",
    "\n",
    "        # save start time\n",
    "        while GPIO.input(self.__gpio_echo) == 0:\n",
    "            start_time = time.time()\n",
    "            if start_time - iteration_start_time > self.__max_wait_time:\n",
    "                return math.nan\n",
    "\n",
    "        # save time of arrival\n",
    "        while GPIO.input(self.__gpio_echo) == 1:\n",
    "            stop_time = time.time()\n",
    "            if stop_time - iteration_start_time > self.__max_wait_time:\n",
    "                return self.__max_range\n",
    "\n",
    "        # time difference between start and stop time\n",
    "        time_elapsed = stop_time - start_time\n",
    "        # multiply with the half sonic speed\n",
    "        range_m = time_elapsed * HALF_SONIC_SPEED\n",
    "\n",
    "        if range_m > self.__max_range:\n",
    "            range_m = self.__max_range\n",
    "            \n",
    "        if range_m < self.__min_range:\n",
    "            range_m = self.__min_range\n",
    "            \n",
    "        return range_m"
   ]
  },
  {
   "cell_type": "markdown",
   "id": "controlled-harris",
   "metadata": {},
   "source": [
    "To avoid any damage, set values for parameters gpio_trigger and gpio_echo carefully. **Current values are examples and valid for my robot only**"
   ]
  },
  {
   "cell_type": "code",
   "execution_count": 6,
   "id": "spectacular-marketplace",
   "metadata": {},
   "outputs": [
    {
     "name": "stdout",
     "output_type": "stream",
     "text": [
      "sonar name = right, range [m] = 0.57, \n",
      "sonar name = center, range [m] = 0.58, \n",
      "sonar name = left, range [m] = 0.06, \n"
     ]
    }
   ],
   "source": [
    "try:\n",
    "    sonar_right = UltraSonicSonar(\"right\", 15, 14, 0.05, 4.0, 0)\n",
    "    sonar_right.init_hw()\n",
    "    print(\"sonar name = %s, range [m] = %4.2f, \" % (sonar_right.name, sonar_right.get_range()))\n",
    "\n",
    "    sonar_center = UltraSonicSonar(\"center\", 23, 24, 0.05, 4.0, 0)\n",
    "    sonar_center.init_hw()\n",
    "    print(\"sonar name = %s, range [m] = %4.2f, \" % (sonar_center.name, sonar_center.get_range()))\n",
    "\n",
    "    sonar_left = UltraSonicSonar(\"left\", 25, 16, 0.05, 4.0, 0)\n",
    "    sonar_left.init_hw()\n",
    "    print(\"sonar name = %s, range [m] = %4.2f, \" % (sonar_left.name, sonar_left.get_range()))\n",
    "finally:\n",
    "    GPIO.cleanup()"
   ]
  },
  {
   "cell_type": "code",
   "execution_count": null,
   "id": "streaming-efficiency",
   "metadata": {},
   "outputs": [],
   "source": []
  }
 ],
 "metadata": {
  "kernelspec": {
   "display_name": "Python 3",
   "language": "python",
   "name": "python3"
  },
  "language_info": {
   "codemirror_mode": {
    "name": "ipython",
    "version": 3
   },
   "file_extension": ".py",
   "mimetype": "text/x-python",
   "name": "python",
   "nbconvert_exporter": "python",
   "pygments_lexer": "ipython3",
   "version": "3.7.3"
  }
 },
 "nbformat": 4,
 "nbformat_minor": 5
}
